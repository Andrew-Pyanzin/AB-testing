{
 "cells": [
  {
   "cell_type": "markdown",
   "id": "f218f4ed-e7f7-4825-ba2b-fc123a8cc991",
   "metadata": {},
   "source": [
    "### 1. Создание фрейма данных\n",
    "\n",
    "DataFrame - это самая распространенная структура в pandas. Он похож на таблицу или электронную таблицу со строками и столбцами."
   ]
  },
  {
   "cell_type": "code",
   "execution_count": 28,
   "id": "7091c7ba-37b9-46df-b470-70848f26dd3c",
   "metadata": {},
   "outputs": [],
   "source": [
    "import pandas as pd\n",
    "\n",
    "# Создание DataFrame из словаря\n",
    "data = {\n",
    "    'Name': ['Alice', 'Bob', 'Charlie'],\n",
    "    'Age': [25, 30, 35],\n",
    "    'City': ['New York', 'Los Angeles', 'Chicago']\n",
    "}\n",
    "\n",
    "df = pd.DataFrame(data)"
   ]
  },
  {
   "cell_type": "markdown",
   "id": "d7b6fc52-3b37-46d8-bc7a-fd880a1b0a46",
   "metadata": {},
   "source": [
    "| Action                  | What it does?                                                                       | Что делает команда?                              |\n",
    "|-------------------------|-----------------------------------------------------------------------------------|----------------------------------------------------|\n",
    "| `import pandas as pd`   | Imports the pandas library, which provides data structures and functions          | Импортирует библиотеку pandas, которая предоставляет структуры данных и функции |\n",
    "| `data = {...}`           | Creates a dictionary with key-value pairs (column names and data)                  | Создает словарь с парами ключ-значение (имена столбцов и данные) |\n",
    "| `df = pd.DataFrame(data)`| Creates a DataFrame `df` using the dictionary `data`                               | Создает фрейм данных df, используя данные словаря   |"
   ]
  },
  {
   "cell_type": "markdown",
   "id": "c02965b7-fc1e-47f3-8473-4ca5c7d033f9",
   "metadata": {},
   "source": [
    "### 2. Доступ к данным\n",
    "\n",
    "Вы можете получить доступ к данным из DataFrame с помощью индексации, как к списку или словарю."
   ]
  },
  {
   "cell_type": "code",
   "execution_count": 32,
   "id": "968f1c8f-f55a-4ca0-a763-22860c6e6a3f",
   "metadata": {},
   "outputs": [
    {
     "data": {
      "text/plain": [
       "25"
      ]
     },
     "execution_count": 32,
     "metadata": {},
     "output_type": "execute_result"
    }
   ],
   "source": [
    "# Доступ к колонке\n",
    "df['Name']\n",
    "\n",
    "# Доступ к строке по индексу\n",
    "df.iloc[0]  # Первый ряд\n",
    "\n",
    "# Доступ к определенному элементу\n",
    "df.at[0, 'Age']  # Возраст первого ряда"
   ]
  },
  {
   "cell_type": "markdown",
   "id": "754fe887-dfb1-4c16-9a13-af96b905439f",
   "metadata": {},
   "source": [
    "| Action             | What it does                                                              | Что делает команда?                                                                 |\n",
    "|--------------------|---------------------------------------------------------------------------|------------------------------------------------------------------------------------|\n",
    "| `df['Name']`       | Accesses the “Name” column and returns it as a pandas Series.             | Доступ к столбцу «Name» и возврат его как серии pandas.                           |\n",
    "| `df.iloc[0]`       | Accesses the first row of the DataFrame (index starts from 0).            | Доступ к первой строке DataFrame (индексация начинается с 0).                     |\n",
    "| `df.at[0, 'Age']`  | Accesses the “Age” value of the first row using label-based indexing.     | Доступ к значению «Age» первой строки с использованием индексации по метке.      |"
   ]
  },
  {
   "cell_type": "markdown",
   "id": "2a6957fa-3f56-447b-b2d7-379a8a482d35",
   "metadata": {},
   "source": [
    "### 3. Фильтрация данных\n",
    "\n",
    "Вы можете фильтровать данные, применяя условия"
   ]
  },
  {
   "cell_type": "code",
   "execution_count": 35,
   "id": "ec8ff51f-e486-40c9-bcf7-32e5610cfa3b",
   "metadata": {},
   "outputs": [
    {
     "data": {
      "text/html": [
       "<div>\n",
       "<style scoped>\n",
       "    .dataframe tbody tr th:only-of-type {\n",
       "        vertical-align: middle;\n",
       "    }\n",
       "\n",
       "    .dataframe tbody tr th {\n",
       "        vertical-align: top;\n",
       "    }\n",
       "\n",
       "    .dataframe thead th {\n",
       "        text-align: right;\n",
       "    }\n",
       "</style>\n",
       "<table border=\"1\" class=\"dataframe\">\n",
       "  <thead>\n",
       "    <tr style=\"text-align: right;\">\n",
       "      <th></th>\n",
       "      <th>Name</th>\n",
       "      <th>Age</th>\n",
       "      <th>City</th>\n",
       "    </tr>\n",
       "  </thead>\n",
       "  <tbody>\n",
       "    <tr>\n",
       "      <th>2</th>\n",
       "      <td>Charlie</td>\n",
       "      <td>35</td>\n",
       "      <td>Chicago</td>\n",
       "    </tr>\n",
       "  </tbody>\n",
       "</table>\n",
       "</div>"
      ],
      "text/plain": [
       "      Name  Age     City\n",
       "2  Charlie   35  Chicago"
      ]
     },
     "execution_count": 35,
     "metadata": {},
     "output_type": "execute_result"
    }
   ],
   "source": [
    "# Отфильтруйте строки, в которых возраст больше 30 лет\n",
    "df[df['Age'] > 30]"
   ]
  },
  {
   "cell_type": "markdown",
   "id": "7b7125e7-3134-48d2-b626-00416be6523c",
   "metadata": {},
   "source": [
    "| Action                        | What it does                                                          | Что делает команда?                                                                         |\n",
    "|-------------------------------|-----------------------------------------------------------------------|--------------------------------------------------------------------------------------------|\n",
    "| `df[df['Age'] > 30]`           | Filters the rows where the “Age” column value is greater than 30     | Фильтрует строки, где значение столбца «Age» больше 30                                      |"
   ]
  },
  {
   "cell_type": "markdown",
   "id": "a3ba0422-1665-4b58-9dd8-2f12d37489d7",
   "metadata": {},
   "source": [
    "### 4. Добавление или изменение столбцов\n",
    "\n",
    "Вы можете добавлять или изменять столбцы, присваивая значения именам столбцов"
   ]
  },
  {
   "cell_type": "code",
   "execution_count": 39,
   "id": "cd152fa0-25d4-4ed9-b080-69decd32d4cd",
   "metadata": {},
   "outputs": [],
   "source": [
    "# Добавление нового столбца\n",
    "df['Country'] = ['USA', 'USA', 'USA']\n",
    "\n",
    "# Изменение существующего столбца\n",
    "df['Age'] = df['Age'] + 1  # Увеличение возраста на 1"
   ]
  },
  {
   "cell_type": "markdown",
   "id": "c6c4578b-522c-4daf-88bc-25069a322292",
   "metadata": {},
   "source": [
    "| Action                             | What it does                                                         | Что делает команда?                                                                             |\n",
    "|------------------------------------|----------------------------------------------------------------------|-----------------------------------------------------------------------------------------------|\n",
    "| `df['Country'] = [...]`            | Adds a new column “Country” to the DataFrame.                        | Добавляет новый столбец «Country» в DataFrame.                                                   |\n",
    "| `df['Age'] = df['Age'] + 1`        | Modifies the “Age” column by adding 1 to each value.                 | Изменяет столбец «Age», добавляя 1 к каждому значению.                                          |"
   ]
  },
  {
   "cell_type": "markdown",
   "id": "1f3de614-8921-42b8-aebf-2d1a6c10206c",
   "metadata": {},
   "source": [
    "### 5. Уменьшение столбцов или строк\n",
    "\n",
    "Вы можете удалить столбцы или строки с помощью функции drop."
   ]
  },
  {
   "cell_type": "code",
   "execution_count": 46,
   "id": "edd00387-0e97-4288-984f-cacc8d5540f5",
   "metadata": {},
   "outputs": [],
   "source": [
    "# Удаление колонки\n",
    "df.drop('Country', axis=1, inplace=True)\n",
    "\n",
    "# Уменьшение ряда по индексу\n",
    "df.drop(0, axis=0, inplace=True)"
   ]
  },
  {
   "cell_type": "markdown",
   "id": "6f712ff6-1082-4295-84b7-7096b6fda079",
   "metadata": {},
   "source": [
    "| Action                                        | What it does                                                         | Что делает команда?                                                                            |\n",
    "|-----------------------------------------------|----------------------------------------------------------------------|----------------------------------------------------------------------------------------------|\n",
    "| `df.drop('Country', axis=1, inplace=True)`     | Removes the “Country” column from the DataFrame.                      | Удаляет столбец «Country» из DataFrame.                                                        |\n",
    "| `df.drop(0, axis=0, inplace=True)`             | Removes the first row (index 0) from the DataFrame.                   | Удаляет первую строку (индекс 0) из DataFrame.                                                 |"
   ]
  },
  {
   "cell_type": "markdown",
   "id": "0eded97c-b7fc-485b-b3b7-b87b744e39b9",
   "metadata": {},
   "source": [
    "### 6. Сортировка данных\n",
    "\n",
    "Вы можете сортировать данные по определенному столбцу или индексу."
   ]
  },
  {
   "cell_type": "code",
   "execution_count": 49,
   "id": "0e43618a-55b7-4cfd-b85b-a93a88ff91d0",
   "metadata": {},
   "outputs": [
    {
     "data": {
      "text/html": [
       "<div>\n",
       "<style scoped>\n",
       "    .dataframe tbody tr th:only-of-type {\n",
       "        vertical-align: middle;\n",
       "    }\n",
       "\n",
       "    .dataframe tbody tr th {\n",
       "        vertical-align: top;\n",
       "    }\n",
       "\n",
       "    .dataframe thead th {\n",
       "        text-align: right;\n",
       "    }\n",
       "</style>\n",
       "<table border=\"1\" class=\"dataframe\">\n",
       "  <thead>\n",
       "    <tr style=\"text-align: right;\">\n",
       "      <th></th>\n",
       "      <th>Name</th>\n",
       "      <th>Age</th>\n",
       "      <th>City</th>\n",
       "    </tr>\n",
       "  </thead>\n",
       "  <tbody>\n",
       "    <tr>\n",
       "      <th>1</th>\n",
       "      <td>Bob</td>\n",
       "      <td>31</td>\n",
       "      <td>Los Angeles</td>\n",
       "    </tr>\n",
       "    <tr>\n",
       "      <th>2</th>\n",
       "      <td>Charlie</td>\n",
       "      <td>36</td>\n",
       "      <td>Chicago</td>\n",
       "    </tr>\n",
       "  </tbody>\n",
       "</table>\n",
       "</div>"
      ],
      "text/plain": [
       "      Name  Age         City\n",
       "1      Bob   31  Los Angeles\n",
       "2  Charlie   36      Chicago"
      ]
     },
     "execution_count": 49,
     "metadata": {},
     "output_type": "execute_result"
    }
   ],
   "source": [
    "# Сортировка по столбцу\n",
    "df.sort_values('Age', ascending=False)\n",
    "\n",
    "# Сортировка по индексу\n",
    "df.sort_index(ascending=True)"
   ]
  },
  {
   "cell_type": "markdown",
   "id": "f942c468-aa02-4aa5-9829-955079a5cd08",
   "metadata": {},
   "source": [
    "| Action                                          | What it does                                                         | Что делает команда?                                                                            |\n",
    "|-------------------------------------------------|----------------------------------------------------------------------|----------------------------------------------------------------------------------------------|\n",
    "| `df.sort_values('Age', ascending=False)`        | Sorts the DataFrame by the “Age” column in descending order.         | Сортирует DataFrame по столбцу «Age» в убывающем порядке.                                    |\n",
    "| `df.sort_index(ascending=True)`                 | Sorts the DataFrame by index in ascending order.                     | Сортирует DataFrame по индексу в возрастающем порядке.                                       |"
   ]
  },
  {
   "cell_type": "markdown",
   "id": "e010a6c8-a10b-46cc-91a3-33c673f880a4",
   "metadata": {},
   "source": [
    "### 7. Группировка данных\n",
    "\n",
    "Группировка данных по столбцам и выполнять агрегирование (сумма, среднее и т. д.)"
   ]
  },
  {
   "cell_type": "code",
   "execution_count": 52,
   "id": "8d7d105f-8951-4cd1-8d2b-1f70348bd47c",
   "metadata": {},
   "outputs": [
    {
     "data": {
      "text/plain": [
       "City\n",
       "Chicago        36.0\n",
       "Los Angeles    31.0\n",
       "Name: Age, dtype: float64"
      ]
     },
     "execution_count": 52,
     "metadata": {},
     "output_type": "execute_result"
    }
   ],
   "source": [
    "# Группировка по столбцам и вычисление среднего значения\n",
    "df.groupby('City')['Age'].mean()"
   ]
  },
  {
   "cell_type": "markdown",
   "id": "cfe70be8-b560-4a49-9b88-e128dbf75e39",
   "metadata": {},
   "source": [
    "| Action                                             | What it does                                                         | Что делает команда?                                                                            |\n",
    "|----------------------------------------------------|----------------------------------------------------------------------|----------------------------------------------------------------------------------------------|\n",
    "| `df.groupby('City')['Age'].mean()`                 | Groups the data by the “City” column and calculates the mean of “Age”. | Группирует данные по столбцу «City» и вычисляет среднее значение для «Age».                  |"
   ]
  },
  {
   "cell_type": "markdown",
   "id": "ff6d2ce8-7610-4a08-8cb1-dcb7e465cb03",
   "metadata": {},
   "source": [
    "### 8. Объединение данных\n",
    "\n",
    "Вы можете объединить фреймы данных, объединив их на основе общего столбца"
   ]
  },
  {
   "cell_type": "code",
   "execution_count": 56,
   "id": "19a94ff7-86ca-474c-a6b8-a0e720e249f7",
   "metadata": {},
   "outputs": [],
   "source": [
    "# Объединение двух фреймов данных\n",
    "df1 = pd.DataFrame({'ID': [1, 2], 'Name': ['Alice', 'Bob']})\n",
    "df2 = pd.DataFrame({'ID': [1, 2], 'Age': [25, 30]})\n",
    "\n",
    "merged_df = pd.merge(df1, df2, on='ID')"
   ]
  },
  {
   "cell_type": "markdown",
   "id": "06439294-0414-48a0-b336-28222bbf96b9",
   "metadata": {},
   "source": [
    "| Action                                             | What it does                                                         | Что делает команда?                                                                            |\n",
    "|----------------------------------------------------|----------------------------------------------------------------------|----------------------------------------------------------------------------------------------|\n",
    "| `pd.merge(df1, df2, on='ID')`                      | Merges df1 and df2 on the common “ID” column, resulting in a new DataFrame. | Объединяет df1 и df2 по общему столбцу «ID», создавая новый DataFrame.                         |"
   ]
  },
  {
   "cell_type": "markdown",
   "id": "4e094fef-ae19-41e9-a542-67e5859e0ba0",
   "metadata": {},
   "source": [
    "### 9. Экспорт данных\n",
    "\n",
    "Вы можете экспортировать данные в различные форматы файлов, такие как CSV, Excel и т. д"
   ]
  },
  {
   "cell_type": "code",
   "execution_count": 59,
   "id": "12f6fbc4-b98c-45a6-a63e-879c45c15db1",
   "metadata": {},
   "outputs": [],
   "source": [
    "# Экспорт в CSV\n",
    "df.to_csv('output.csv', index=False)\n",
    "\n",
    "# Экспорт в Excel\n",
    "df.to_excel('output.xlsx', index=False)"
   ]
  },
  {
   "cell_type": "markdown",
   "id": "0a4e586e-a048-4cd9-aeec-5ac576cb3975",
   "metadata": {},
   "source": [
    "| Action                                        | What it does                                                         | Что делает команда?                                                                            |\n",
    "|-----------------------------------------------|----------------------------------------------------------------------|----------------------------------------------------------------------------------------------|\n",
    "| `df.to_csv('output.csv', index=False)`        | Saves the DataFrame to a CSV file without writing row indices.       | Сохраняет DataFrame в CSV файл без записи индексов строк.                                      |\n",
    "| `df.to_excel('output.xlsx', index=False)`     | Saves the DataFrame to an Excel file without writing row indices.    | Сохраняет DataFrame в Excel файл без записи индексов строк.                                    |"
   ]
  }
 ],
 "metadata": {
  "kernelspec": {
   "display_name": "Python 3 (ipykernel)",
   "language": "python",
   "name": "python3"
  },
  "language_info": {
   "codemirror_mode": {
    "name": "ipython",
    "version": 3
   },
   "file_extension": ".py",
   "mimetype": "text/x-python",
   "name": "python",
   "nbconvert_exporter": "python",
   "pygments_lexer": "ipython3",
   "version": "3.12.4"
  }
 },
 "nbformat": 4,
 "nbformat_minor": 5
}
